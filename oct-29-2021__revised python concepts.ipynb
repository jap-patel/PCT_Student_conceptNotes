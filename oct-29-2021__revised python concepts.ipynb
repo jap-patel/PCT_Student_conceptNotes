{
 "cells": [
  {
   "cell_type": "code",
   "execution_count": 3,
   "metadata": {},
   "outputs": [
    {
     "name": "stdout",
     "output_type": "stream",
     "text": [
      "value of a :  10\n",
      "value of a :  9\n",
      "value of a :  8\n",
      "value of a :  7\n",
      "value of a :  6\n",
      "value of a :  5\n",
      "value of a :  4\n",
      "value of a :  3\n",
      "value of a :  2\n",
      "value of a :  1\n"
     ]
    }
   ],
   "source": [
    "x = [1,2,3,4,5,6,7,8,9,10]\n",
    "a = 10\n",
    "while a>0:\n",
    "    print(\"value of a : \",a)\n",
    "    a = a - 1"
   ]
  },
  {
   "cell_type": "code",
   "execution_count": 4,
   "metadata": {},
   "outputs": [
    {
     "name": "stdout",
     "output_type": "stream",
     "text": [
      "value of a :  4\n",
      "value of a :  3\n",
      "value of a :  2\n",
      "value of a :  1\n"
     ]
    }
   ],
   "source": [
    "x = [1,2,3,4,5,6,7,8,9,10]\n",
    "a = 4\n",
    "while a>0:\n",
    "    print(\"value of a : \",a)\n",
    "    a = a - 1"
   ]
  },
  {
   "cell_type": "code",
   "execution_count": 5,
   "metadata": {},
   "outputs": [
    {
     "name": "stdout",
     "output_type": "stream",
     "text": [
      "value of a :  10\n",
      "value of a :  9\n",
      "value of a :  8\n",
      "value of a :  7\n",
      "value of a :  6\n",
      "value of a :  5\n"
     ]
    }
   ],
   "source": [
    "x = [1,2,3,4,5,6,7,8,9,10]\n",
    "a = 10\n",
    "while a>0:\n",
    "    print(\"value of a : \",a)\n",
    "    a = a - 1\n",
    "    if a==4:\n",
    "        break"
   ]
  },
  {
   "cell_type": "code",
   "execution_count": 6,
   "metadata": {},
   "outputs": [
    {
     "name": "stdout",
     "output_type": "stream",
     "text": [
      "value of a :  10\n",
      "value of a :  9\n",
      "value of a :  8\n",
      "value of a :  7\n",
      "value of a :  6\n",
      "value of a :  5\n",
      "value of a :  4\n"
     ]
    }
   ],
   "source": [
    "x = [1,2,3,4,5,6,7,8,9,10]\n",
    "a = 10\n",
    "while a>3:\n",
    "    print(\"value of a : \",a)\n",
    "    a = a - 1"
   ]
  },
  {
   "cell_type": "code",
   "execution_count": 9,
   "metadata": {},
   "outputs": [
    {
     "name": "stdout",
     "output_type": "stream",
     "text": [
      "value of x :  vaibhavi\n",
      "value of x :  bhumi\n",
      "value of x :  chhaya\n",
      "value of x :  is\n",
      "value of x :  name\n",
      "value of x :  my\n"
     ]
    }
   ],
   "source": [
    "x = ['my','name','is','chhaya','bhumi','vaibhavi']\n",
    "a = 5\n",
    "while a>-1:\n",
    "    print(\"value of x : \",x[a])\n",
    "    a = a - 1"
   ]
  },
  {
   "cell_type": "code",
   "execution_count": null,
   "metadata": {},
   "outputs": [],
   "source": []
  }
 ],
 "metadata": {
  "kernelspec": {
   "display_name": "Python 3",
   "language": "python",
   "name": "python3"
  },
  "language_info": {
   "codemirror_mode": {
    "name": "ipython",
    "version": 3
   },
   "file_extension": ".py",
   "mimetype": "text/x-python",
   "name": "python",
   "nbconvert_exporter": "python",
   "pygments_lexer": "ipython3",
   "version": "3.8.5"
  }
 },
 "nbformat": 4,
 "nbformat_minor": 4
}
